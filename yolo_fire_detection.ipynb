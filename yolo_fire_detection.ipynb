{
  "nbformat": 4,
  "nbformat_minor": 0,
  "metadata": {
    "colab": {
      "provenance": [],
      "authorship_tag": "ABX9TyPYKDgXKjumNyuzK07qlcnY",
      "include_colab_link": true
    },
    "kernelspec": {
      "name": "python3",
      "display_name": "Python 3"
    },
    "language_info": {
      "name": "python"
    }
  },
  "cells": [
    {
      "cell_type": "markdown",
      "metadata": {
        "id": "view-in-github",
        "colab_type": "text"
      },
      "source": [
        "<a href=\"https://colab.research.google.com/github/francineimorais/bh_assignment/blob/main/yolo_fire_detection.ipynb\" target=\"_parent\"><img src=\"https://colab.research.google.com/assets/colab-badge.svg\" alt=\"Open In Colab\"/></a>"
      ]
    },
    {
      "cell_type": "markdown",
      "source": [
        "# 1.&nbsp;Links to references\n",
        "\n",
        "***Virtual env:***\n",
        "https://realpython.com/python-virtual-environments-a-primer/\n",
        "\n",
        "***Imagem Label:***\n",
        "https://github.com/developer0hye/Yolo_Label\n",
        "\n",
        "***Model train:***\n",
        "https://docs.ultralytics.com/modes/train/\n"
      ],
      "metadata": {
        "id": "djNq7LL7nOud"
      }
    },
    {
      "cell_type": "markdown",
      "source": [
        "# 2.&nbsp;Install Object Detection Dependencies"
      ],
      "metadata": {
        "id": "sdD2YWwXnvRs"
      }
    },
    {
      "cell_type": "code",
      "execution_count": null,
      "metadata": {
        "id": "Ci34Om4Lv7g9"
      },
      "outputs": [],
      "source": [
        "!nvidia-smi"
      ]
    },
    {
      "cell_type": "code",
      "source": [
        "!pip install ultralytics"
      ],
      "metadata": {
        "id": "YhWKyBS7yjym"
      },
      "execution_count": null,
      "outputs": []
    },
    {
      "cell_type": "markdown",
      "source": [
        "# 3.&nbsp;Mount Google Drive"
      ],
      "metadata": {
        "id": "O_64bA8CP9ja"
      }
    },
    {
      "cell_type": "markdown",
      "source": [
        "**Copy images from Google Drive**\n",
        "\n",
        "You can upload your images to your personal Google Drive and mount the drive on this Colab session. This option works well if you want to upload the images beforehand so you don't have to wait for them to upload each time you restart this Colab."
      ],
      "metadata": {
        "id": "nmySWOtYWure"
      }
    },
    {
      "cell_type": "code",
      "source": [
        "from google.colab import drive\n",
        "drive.mount('/content/drive')"
      ],
      "metadata": {
        "colab": {
          "base_uri": "https://localhost:8080/"
        },
        "id": "jWT2uz5fP8eM",
        "outputId": "20a35570-d28f-485a-ec61-67a33e885cef"
      },
      "execution_count": 1,
      "outputs": [
        {
          "output_type": "stream",
          "name": "stdout",
          "text": [
            "Mounted at /content/drive\n"
          ]
        }
      ]
    },
    {
      "cell_type": "markdown",
      "source": [
        "# 3.&nbsp;Importing packages"
      ],
      "metadata": {
        "id": "a4nQxIRQoe6c"
      }
    },
    {
      "cell_type": "code",
      "source": [
        "from ultralytics import YOLO\n",
        "from PIL import Image"
      ],
      "metadata": {
        "id": "rRWiQ1-ooy24"
      },
      "execution_count": null,
      "outputs": []
    },
    {
      "cell_type": "markdown",
      "source": [
        "# 4.&nbsp;Train custom model"
      ],
      "metadata": {
        "id": "GRte-1kVoRVj"
      }
    },
    {
      "cell_type": "markdown",
      "source": [
        "***path to yaml file***\n",
        "\n",
        "To train the model you'll need to get the path to yaml file, for example: `/content/drive/MyDrive/<folder-with-the-images>/data.yaml`"
      ],
      "metadata": {
        "id": "NN3-RKAzXINQ"
      }
    },
    {
      "cell_type": "code",
      "source": [
        "# Load a pretrained model\n",
        "# model = YOLO('yolov8n.yaml')  # build a new model from YAML\n",
        "# model = YOLO('yolov8n.yaml').load('yolov8n.pt')  # build from YAML and transfer weights\n",
        "model = YOLO('yolov8n.pt')  # load a pretrained model (recommended for training)\n",
        "\n",
        "# Train the model\n",
        "# results = model.train(data=path_to_yaml, epochs=100, imgsz=640)\n",
        "# results = model.train(data=path_to_yaml, epochs=100, imgsz=640)\n",
        "path_to_yaml = '/content/drive/MyDrive/data/data.yaml'\n",
        "results = model.train(data=path_to_yaml, epochs=3, imgsz=640)"
      ],
      "metadata": {
        "id": "W8QdwMskcbzf"
      },
      "execution_count": null,
      "outputs": []
    },
    {
      "cell_type": "markdown",
      "source": [
        "# 5.&nbsp;Inference"
      ],
      "metadata": {
        "id": "m8qE_bJvpIXO"
      }
    },
    {
      "cell_type": "code",
      "source": [
        "# Load a pretrained YOLOv8n model\n",
        "# model = YOLO('yolov8n.pt')\n",
        "# model = YOLO('fire.pt')\n",
        "\n",
        "# Load custom model\n",
        "path_custom_model = '/content/runs/detect/train3/weights/best.pt'\n",
        "model = YOLO(path_custom_model)\n",
        "\n",
        "# Run inference on image\n",
        "# results = model('bus.jpg')  # results list\n",
        "path = '/content/drive/MyDrive/data/test/images/\\\n",
        "        150602191030-austin-texas-dashcam-car-explosion-fire-large-169_jpg.\\\n",
        "        rf.eb2b7fb3b1b240389a4366365e21f9fc.jpg'\n",
        "# results = model.predict(source = path, conf = 0.6)\n",
        "results = model.predict(source = path)\n",
        "\n",
        "# Show the results\n",
        "for r in results:\n",
        "    im_array = r.plot()  # plot a BGR numpy array of predictions\n",
        "    im = Image.fromarray(im_array[..., ::-1])  # RGB PIL image\n",
        "    im.show()  # show image\n",
        "    im.save('results.jpg')  # save image"
      ],
      "metadata": {
        "id": "Ma1ZKielZ2-e"
      },
      "execution_count": null,
      "outputs": []
    },
    {
      "cell_type": "markdown",
      "source": [
        "# 6.&nbsp;Export to Google Drive"
      ],
      "metadata": {
        "id": "AhD9N0gWRpWb"
      }
    },
    {
      "cell_type": "code",
      "source": [
        "import shutil\n",
        "\n",
        "source_path = '/content/testa_transferencia'  # Caminho do arquivo gerado no Colab\n",
        "destination_path = '/content/drive/MyDrive/pasta_destino/'  # Caminho de destino no Drive\n",
        "\n",
        "shutil.copytree(source_path, destination_path)"
      ],
      "metadata": {
        "colab": {
          "base_uri": "https://localhost:8080/",
          "height": 35
        },
        "id": "D5yIro5Grkk2",
        "outputId": "64f2121a-f2d3-4ed7-8621-206ffcaecd58"
      },
      "execution_count": null,
      "outputs": [
        {
          "output_type": "execute_result",
          "data": {
            "text/plain": [
              "'/content/drive/MyDrive/pasta_destino/'"
            ],
            "application/vnd.google.colaboratory.intrinsic+json": {
              "type": "string"
            }
          },
          "metadata": {},
          "execution_count": 7
        }
      ]
    }
  ]
}